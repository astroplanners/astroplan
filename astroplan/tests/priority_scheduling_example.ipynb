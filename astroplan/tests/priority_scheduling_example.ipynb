{
 "cells": [
  {
   "cell_type": "code",
   "execution_count": 1,
   "metadata": {
    "collapsed": true
   },
   "outputs": [],
   "source": [
    "import numpy as np\n",
    "from matplotlib import pyplot as plt\n",
    "%matplotlib inline"
   ]
  },
  {
   "cell_type": "code",
   "execution_count": 2,
   "metadata": {
    "collapsed": true
   },
   "outputs": [],
   "source": [
    "import sys\n",
    "#replace the '/home/karl/Astroplan/astroplan' with wherever the directory is\n",
    "sys.path.insert(0,'/home/karl/Astroplan/astroplan')"
   ]
  },
  {
   "cell_type": "code",
   "execution_count": 3,
   "metadata": {
    "collapsed": false
   },
   "outputs": [],
   "source": [
    "from astropy import units as u\n",
    "from astropy.coordinates import SkyCoord\n",
    "from astropy.time import Time\n",
    "import astroplan\n",
    "import astroplan.constraints\n",
    "from astroplan import Observer, FixedTarget, ObservingBlock\n",
    "from astroplan import PriorityScheduler, SequentialScheduler, Transitioner\n",
    "from astroplan import plots\n",
    "color_cycle = plots.mplstyles.astropy_mpl_style['axes.color_cycle']"
   ]
  },
  {
   "cell_type": "code",
   "execution_count": 4,
   "metadata": {
    "collapsed": false
   },
   "outputs": [
    {
     "name": "stdout",
     "output_type": "stream",
     "text": [
      "2016-06-22 22:22:51.068383 2016-06-24 22:22:51.068383\n"
     ]
    }
   ],
   "source": [
    "start_time = Time.now()\n",
    "end_time = start_time+48*u.hour\n",
    "print(start_time,end_time)"
   ]
  },
  {
   "cell_type": "code",
   "execution_count": 5,
   "metadata": {
    "collapsed": true
   },
   "outputs": [],
   "source": [
    "min_exposure=2*u.hour\n",
    "times = start_time + u.Quantity(np.arange(0,(end_time - start_time).value, min_exposure.to(u.day).value), unit=u.day)"
   ]
  },
  {
   "cell_type": "code",
   "execution_count": 6,
   "metadata": {
    "collapsed": false
   },
   "outputs": [],
   "source": [
    "mdm = Observer.at_site('mdm')"
   ]
  },
  {
   "cell_type": "code",
   "execution_count": 7,
   "metadata": {
    "collapsed": false
   },
   "outputs": [
    {
     "data": {
      "text/plain": [
       "[<FixedTarget \"Vega\" at SkyCoord (ICRS): (ra, dec) in deg (279.23473479, 38.78368896)>,\n <FixedTarget \"Deneb\" at SkyCoord (ICRS): (ra, dec) in deg (310.35797975, 45.28033881)>,\n <FixedTarget \"Arcturus\" at SkyCoord (ICRS): (ra, dec) in deg (213.9153003, 19.18240916)>,\n <FixedTarget \"Altair\" at SkyCoord (ICRS): (ra, dec) in deg (297.6958273, 8.8683212)>,\n <FixedTarget \"Aldebaran\" at SkyCoord (ICRS): (ra, dec) in deg (68.98016279, 16.50930235)>,\n <FixedTarget \"Sirius\" at SkyCoord (ICRS): (ra, dec) in deg (101.28715533, -16.71611586)>,\n <FixedTarget \"Betelgeuse\" at SkyCoord (ICRS): (ra, dec) in deg (88.79293899, 7.40706399)>,\n <FixedTarget \"Rigel\" at SkyCoord (ICRS): (ra, dec) in deg (78.63446707, -8.20163837)>,\n <FixedTarget \"Castor\" at SkyCoord (ICRS): (ra, dec) in deg (113.64947164, 31.88828222)>,\n <FixedTarget \"Pollux\" at SkyCoord (ICRS): (ra, dec) in deg (116.32895777, 28.02619889)>,\n <FixedTarget \"Polaris\" at SkyCoord (ICRS): (ra, dec) in deg (37.95456067, 89.26410897)>]"
      ]
     },
     "execution_count": 7,
     "metadata": {},
     "output_type": "execute_result"
    }
   ],
   "source": [
    "targets = [FixedTarget.from_name('Vega'),\n",
    "           FixedTarget.from_name('Deneb'),\n",
    "           FixedTarget.from_name('Arcturus'),\n",
    "           FixedTarget.from_name('Altair'),\n",
    "           FixedTarget.from_name('Aldebaran'),\n",
    "           FixedTarget.from_name('Sirius'),\n",
    "           FixedTarget.from_name('Betelgeuse'),\n",
    "           FixedTarget.from_name('Rigel'),\n",
    "           FixedTarget.from_name('Castor'),\n",
    "           FixedTarget.from_name('Pollux'),\n",
    "           FixedTarget.from_name('Polaris')\n",
    "          ]\n",
    "targets"
   ]
  },
  {
   "cell_type": "code",
   "execution_count": 8,
   "metadata": {
    "collapsed": true
   },
   "outputs": [],
   "source": [
    "etime = 5*u.min\n",
    "n = 10\n",
    "rot = 55*u.second\n",
    "\n",
    "blocks = []\n",
    "for i,t in enumerate(targets):\n",
    "    #i is used as the priority\n",
    "    blocks.append(ObservingBlock.from_exposures(t, i, etime, n, rot))"
   ]
  },
  {
   "cell_type": "code",
   "execution_count": 9,
   "metadata": {
    "collapsed": false
   },
   "outputs": [],
   "source": [
    "constraints = [astroplan.constraints.AirmassConstraint(3, boolean_constraint=False),\n",
    "               astroplan.constraints.AtNightConstraint()\n",
    "               ]"
   ]
  },
  {
   "cell_type": "code",
   "execution_count": 10,
   "metadata": {
    "collapsed": true
   },
   "outputs": [],
   "source": [
    "observable = constraints[0].compute_constraint(times,mdm,[targets[0]])"
   ]
  },
  {
   "cell_type": "code",
   "execution_count": 11,
   "metadata": {
    "collapsed": false,
    "scrolled": false
   },
   "outputs": [
    {
     "name": "stdout",
     "output_type": "stream",
     "text": [
      "could not schedule Aldebaran\n"
     ]
    },
    {
     "name": "stdout",
     "output_type": "stream",
     "text": [
      "could not schedule Sirius\n"
     ]
    },
    {
     "name": "stdout",
     "output_type": "stream",
     "text": [
      "could not schedule Betelgeuse\n"
     ]
    },
    {
     "name": "stdout",
     "output_type": "stream",
     "text": [
      "could not schedule Rigel\n"
     ]
    },
    {
     "name": "stdout",
     "output_type": "stream",
     "text": [
      "could not schedule Castor\n"
     ]
    },
    {
     "name": "stdout",
     "output_type": "stream",
     "text": [
      "could not schedule Pollux\n"
     ]
    }
   ],
   "source": [
    "scheduler = PriorityScheduler(start_time, end_time,\n",
    "                                constraints=constraints, observer=mdm)\n",
    "schedule = scheduler(blocks)"
   ]
  },
  {
   "cell_type": "code",
   "execution_count": 12,
   "metadata": {
    "collapsed": false
   },
   "outputs": [
    {
     "name": "stdout",
     "output_type": "stream",
     "text": [
      "Schedule containing 5 observing blocks between 2016-06-22 22:22:51.068 and 2016-06-24 22:22:51.068\n"
     ]
    }
   ],
   "source": [
    "all_blocks = schedule.scheduled_blocks\n",
    "print(schedule)"
   ]
  },
  {
   "cell_type": "code",
   "execution_count": 14,
   "metadata": {
    "collapsed": false
   },
   "outputs": [],
   "source": [
    "plt.figure(figsize=(10,5))\n",
    "ts = start_time + np.linspace(0, (end_time-start_time).value, 100)*u.day\n",
    "targ_to_color = {}\n",
    "color_idx = np.linspace(0, 1, len(targets))\n",
    "for target, ci in zip(targets, color_idx):\n",
    "    plots.plot_airmass(target, mdm, ts, style_kwargs=dict(color=plt.cm.cool(ci)))\n",
    "    targ_to_color[target.name] = plt.cm.cool(ci)\n",
    "    print(target.name)\n",
    "#plt.legend(loc=2)\n",
    "\n",
    "for block in all_blocks:\n",
    "    if hasattr(block, 'target'):\n",
    "        plt.axvspan(block.start_time.plot_date, block.end_time.plot_date, \n",
    "                    fc=targ_to_color[block.target.name], lw=0)\n",
    "    else:\n",
    "        plt.axvspan(block.start_time.plot_date, block.end_time.plot_date, \n",
    "                    lw=0)\n",
    "ax=plt.gca()"
   ]
  },
  {
   "cell_type": "code",
   "execution_count": null,
   "metadata": {
    "collapsed": true
   },
   "outputs": [],
   "source": [
    ""
   ]
  },
  {
   "cell_type": "code",
   "execution_count": null,
   "outputs": [],
   "source": [
    ""
   ]
  }
 ],
 "metadata": {
  "kernelspec": {
   "display_name": "Python 3",
   "language": "python",
   "name": "python3"
  },
  "language_info": {
   "codemirror_mode": {
    "name": "ipython",
    "version": 3.0
   },
   "file_extension": ".py",
   "mimetype": "text/x-python",
   "name": "python",
   "nbconvert_exporter": "python",
   "pygments_lexer": "ipython3",
   "version": "3.5.1"
  }
 },
 "nbformat": 4,
 "nbformat_minor": 0
}