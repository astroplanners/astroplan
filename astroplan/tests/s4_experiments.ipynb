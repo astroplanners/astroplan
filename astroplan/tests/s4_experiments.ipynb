{
 "cells": [
  {
   "cell_type": "code",
   "execution_count": 1,
   "metadata": {
    "collapsed": true
   },
   "outputs": [],
   "source": [
    "import numpy as np\n",
    "\n",
    "%matplotlib inline\n",
    "from matplotlib import pyplot as plt"
   ]
  },
  {
   "cell_type": "code",
   "execution_count": 2,
   "metadata": {
    "collapsed": false
   },
   "outputs": [],
   "source": [
    "from astropy import units as u\n",
    "from astropy.coordinates import SkyCoord\n",
    "from astropy.time import Time\n",
    "\n",
    "import pytz\n",
    "\n",
    "import astroplan\n",
    "from astroplan import Observer, FixedTarget, ObservingBlock, SequentialScheduler"
   ]
  },
  {
   "cell_type": "code",
   "execution_count": 3,
   "metadata": {
    "collapsed": false
   },
   "outputs": [
    {
     "data": {
      "text/plain": [
       "<Observer: name='Palomar',\n",
       "    location (lon, lat, el)=(-116.863 deg, 33.356 deg, 1706.0 m),\n",
       "    timezone=<DstTzInfo 'US/Pacific' LMT-1 day, 16:07:00 STD>>"
      ]
     },
     "execution_count": 3,
     "metadata": {},
     "output_type": "execute_result"
    }
   ],
   "source": [
    "pal = Observer.at_site('Palomar', timezone=pytz.timezone('US/Pacific'))\n",
    "pal"
   ]
  },
  {
   "cell_type": "code",
   "execution_count": 4,
   "metadata": {
    "collapsed": false
   },
   "outputs": [
    {
     "data": {
      "text/plain": [
       "[<FixedTarget \"Vega\" at SkyCoord (ICRS): (ra, dec) in deg (279.23473479, 38.78368896)>,\n",
       " <FixedTarget \"Deneb\" at SkyCoord (ICRS): (ra, dec) in deg (310.35797975, 45.28033881)>,\n",
       " <FixedTarget \"Altair\" at SkyCoord (ICRS): (ra, dec) in deg (297.6958273, 8.8683212)>,\n",
       " <FixedTarget \"Albireo\" at SkyCoord (ICRS): (ra, dec) in deg (292.68033548, 27.95968007)>]"
      ]
     },
     "execution_count": 4,
     "metadata": {},
     "output_type": "execute_result"
    }
   ],
   "source": [
    "targets = [FixedTarget.from_name('Vega'),\n",
    "           FixedTarget.from_name('Deneb'),\n",
    "           FixedTarget.from_name('Altair'),\n",
    "           FixedTarget.from_name('Albireo')]\n",
    "targets"
   ]
  },
  {
   "cell_type": "code",
   "execution_count": 5,
   "metadata": {
    "collapsed": false
   },
   "outputs": [],
   "source": [
    "etime = 5*u.min\n",
    "n = 10\n",
    "rot = 55*u.second\n",
    "\n",
    "blocks = [ObservingBlock.from_exposures(t, etime, n, rot) for t in targets]"
   ]
  },
  {
   "cell_type": "code",
   "execution_count": 6,
   "metadata": {
    "collapsed": false
   },
   "outputs": [
    {
     "data": {
      "text/plain": [
       "[<astroplan.scheduling.ObservingBlock object (unscheduled) at 0x10db11610>,\n",
       " <astroplan.scheduling.ObservingBlock object (unscheduled) at 0x10c182f10>,\n",
       " <astroplan.scheduling.ObservingBlock object (unscheduled) at 0x10c194fd0>,\n",
       " <astroplan.scheduling.ObservingBlock object (unscheduled) at 0x10c194c50>]"
      ]
     },
     "execution_count": 6,
     "metadata": {},
     "output_type": "execute_result"
    }
   ],
   "source": [
    "blocks"
   ]
  },
  {
   "cell_type": "code",
   "execution_count": 7,
   "metadata": {
    "collapsed": false
   },
   "outputs": [],
   "source": [
    "constraints = [astroplan.constraints.AirmassConstraint(2),\n",
    "               astroplan.constraints.AtNightConstraint(18*u.deg)\n",
    "               #,astroplan.constraints.MoonSeparationConstraint(2*u.deg)\n",
    "               ]"
   ]
  },
  {
   "cell_type": "code",
   "execution_count": 8,
   "metadata": {
    "collapsed": false
   },
   "outputs": [
    {
     "data": {
      "text/plain": [
       "[<astroplan.scheduling.TransitionBlock object ({u'nothing_observable': <Quantity 30.0 min>}, 2457328.4381 to 2457328.45893) at 0x10c94d410>,\n",
       " <astroplan.scheduling.TransitionBlock object ({u'nothing_observable': <Quantity 30.0 min>}, 2457328.45893 to 2457328.47976) at 0x10db08cd0>,\n",
       " <astroplan.scheduling.ObservingBlock object (2457328.47976 to 2457328.5006) at 0x10daf3d90>,\n",
       " <astroplan.scheduling.ObservingBlock object (2457328.5006 to 2457328.52143) at 0x10c194c90>,\n",
       " <astroplan.scheduling.ObservingBlock object (2457328.52143 to 2457328.54226) at 0x10c194bd0>,\n",
       " <astroplan.scheduling.ObservingBlock object (2457328.54226 to 2457328.5631) at 0x10c194c10>]"
      ]
     },
     "execution_count": 8,
     "metadata": {},
     "output_type": "execute_result"
    }
   ],
   "source": [
    "scheduler = SequentialScheduler.from_timespan(pal.midnight(Time.now()), 18*u.hour, \n",
    "                                              constraints=constraints, observer=pal)\n",
    "schedule = scheduler(blocks)\n",
    "schedule"
   ]
  },
  {
   "cell_type": "code",
   "execution_count": 9,
   "metadata": {
    "collapsed": false
   },
   "outputs": [
    {
     "data": {
      "text/plain": [
       "[(datetime.datetime(2015, 11, 1, 14, 30, 51, 616859, tzinfo=<DstTzInfo 'US/Pacific' PST-1 day, 16:00:00 STD>),\n",
       "  datetime.datetime(2015, 11, 1, 15, 0, 51, 616859, tzinfo=<DstTzInfo 'US/Pacific' PST-1 day, 16:00:00 STD>)),\n",
       " (datetime.datetime(2015, 11, 1, 15, 0, 51, 616859, tzinfo=<DstTzInfo 'US/Pacific' PST-1 day, 16:00:00 STD>),\n",
       "  datetime.datetime(2015, 11, 1, 15, 30, 51, 616859, tzinfo=<DstTzInfo 'US/Pacific' PST-1 day, 16:00:00 STD>)),\n",
       " (datetime.datetime(2015, 11, 1, 15, 30, 51, 616859, tzinfo=<DstTzInfo 'US/Pacific' PST-1 day, 16:00:00 STD>),\n",
       "  datetime.datetime(2015, 11, 1, 16, 0, 51, 616859, tzinfo=<DstTzInfo 'US/Pacific' PST-1 day, 16:00:00 STD>)),\n",
       " (datetime.datetime(2015, 11, 1, 16, 0, 51, 616859, tzinfo=<DstTzInfo 'US/Pacific' PST-1 day, 16:00:00 STD>),\n",
       "  datetime.datetime(2015, 11, 1, 16, 30, 51, 616859, tzinfo=<DstTzInfo 'US/Pacific' PST-1 day, 16:00:00 STD>)),\n",
       " (datetime.datetime(2015, 11, 1, 16, 30, 51, 616859, tzinfo=<DstTzInfo 'US/Pacific' PST-1 day, 16:00:00 STD>),\n",
       "  datetime.datetime(2015, 11, 1, 17, 0, 51, 616859, tzinfo=<DstTzInfo 'US/Pacific' PST-1 day, 16:00:00 STD>)),\n",
       " (datetime.datetime(2015, 11, 1, 17, 0, 51, 616859, tzinfo=<DstTzInfo 'US/Pacific' PST-1 day, 16:00:00 STD>),\n",
       "  datetime.datetime(2015, 11, 1, 17, 30, 51, 616859, tzinfo=<DstTzInfo 'US/Pacific' PST-1 day, 16:00:00 STD>))]"
      ]
     },
     "execution_count": 9,
     "metadata": {},
     "output_type": "execute_result"
    }
   ],
   "source": [
    "[(pal.astropy_time_to_datetime(b.start_time),pal.astropy_time_to_datetime(b.end_time))  for b in schedule]"
   ]
  },
  {
   "cell_type": "code",
   "execution_count": 10,
   "metadata": {
    "collapsed": true
   },
   "outputs": [],
   "source": [
    "c=  constraints[0]"
   ]
  },
  {
   "cell_type": "code",
   "execution_count": 13,
   "metadata": {
    "collapsed": false
   },
   "outputs": [
    {
     "data": {
      "text/plain": [
       "(4, 5)"
      ]
     },
     "execution_count": 13,
     "metadata": {},
     "output_type": "execute_result"
    }
   ],
   "source": [
    "c(pal, targets, Time.now() + np.linspace(0,3,5)*u.hour).shape"
   ]
  },
  {
   "cell_type": "code",
   "execution_count": null,
   "metadata": {
    "collapsed": true
   },
   "outputs": [],
   "source": []
  }
 ],
 "metadata": {
  "kernelspec": {
   "display_name": "Python 2",
   "language": "python",
   "name": "python2"
  },
  "language_info": {
   "codemirror_mode": {
    "name": "ipython",
    "version": 2
   },
   "file_extension": ".py",
   "mimetype": "text/x-python",
   "name": "python",
   "nbconvert_exporter": "python",
   "pygments_lexer": "ipython2",
   "version": "2.7.10"
  }
 },
 "nbformat": 4,
 "nbformat_minor": 0
}
