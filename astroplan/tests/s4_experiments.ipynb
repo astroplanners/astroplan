{
 "cells": [
  {
   "cell_type": "code",
   "execution_count": null,
   "metadata": {
    "collapsed": true
   },
   "outputs": [],
   "source": [
    "import numpy as np\n",
    "\n",
    "%matplotlib inline\n",
    "from matplotlib import pyplot as plt"
   ]
  },
  {
   "cell_type": "code",
   "execution_count": null,
   "metadata": {
    "collapsed": true
   },
   "outputs": [],
   "source": [
    "from astropy import units as u\n",
    "from astropy.coordinates import SkyCoord\n",
    "from astropy.time import Time\n",
    "\n",
    "import pytz\n",
    "\n",
    "import astroplan\n",
    "from astroplan import Observer, FixedTarget, ObservingBlock"
   ]
  },
  {
   "cell_type": "code",
   "execution_count": null,
   "metadata": {
    "collapsed": false
   },
   "outputs": [],
   "source": [
    "pal = Observer.at_site('Palomar', timezone=pytz.timezone('US/Pacific'))\n",
    "pal"
   ]
  },
  {
   "cell_type": "code",
   "execution_count": null,
   "metadata": {
    "collapsed": false
   },
   "outputs": [],
   "source": [
    "targets = [FixedTarget.from_name('Vega'),\n",
    "           FixedTarget.from_name('Deneb'),\n",
    "           FixedTarget.from_name('Altair'),\n",
    "           FixedTarget.from_name('Albireo')]\n",
    "targets"
   ]
  },
  {
   "cell_type": "code",
   "execution_count": null,
   "metadata": {
    "collapsed": false
   },
   "outputs": [],
   "source": [
    "etime = 5*u.min\n",
    "n = 10\n",
    "rot = 55*u.second\n",
    "\n",
    "blocks = [ObservingBlock.from_exposures(t, etime, n, rot) for t in targets]"
   ]
  },
  {
   "cell_type": "code",
   "execution_count": null,
   "metadata": {
    "collapsed": false
   },
   "outputs": [],
   "source": [
    "blocks"
   ]
  },
  {
   "cell_type": "code",
   "execution_count": null,
   "metadata": {
    "collapsed": false
   },
   "outputs": [],
   "source": [
    "constraints = [astroplan.constraints.AirmassConstraint(2),\n",
    "               astroplan.constraints.AtNightConstraint(18*u.deg)\n",
    "               #,astroplan.constraints.MoonSeparationConstraint(2*u.deg)\n",
    "               ]"
   ]
  },
  {
   "cell_type": "code",
   "execution_count": null,
   "metadata": {
    "collapsed": true
   },
   "outputs": [],
   "source": [
    "scheduler = SequentialScheduler(global_constraints=constraints)\n",
    "schedule = scheduler(blocks)\n",
    "schedule"
   ]
  }
 ],
 "metadata": {
  "kernelspec": {
   "display_name": "Python 3",
   "language": "python",
   "name": "python3"
  },
  "language_info": {
   "codemirror_mode": {
    "name": "ipython",
    "version": 3
   },
   "file_extension": ".py",
   "mimetype": "text/x-python",
   "name": "python",
   "nbconvert_exporter": "python",
   "pygments_lexer": "ipython3",
   "version": "3.4.3"
  }
 },
 "nbformat": 4,
 "nbformat_minor": 0
}
